{
  "nbformat": 4,
  "nbformat_minor": 0,
  "metadata": {
    "colab": {
      "provenance": [],
      "authorship_tag": "ABX9TyOxSu53Xw0ixDWM+CdJB8M8",
      "include_colab_link": true
    },
    "kernelspec": {
      "name": "python3",
      "display_name": "Python 3"
    },
    "language_info": {
      "name": "python"
    }
  },
  "cells": [
    {
      "cell_type": "markdown",
      "metadata": {
        "id": "view-in-github",
        "colab_type": "text"
      },
      "source": [
        "<a href=\"https://colab.research.google.com/github/Ashidhi/NLP/blob/main/Untitled9.ipynb\" target=\"_parent\"><img src=\"https://colab.research.google.com/assets/colab-badge.svg\" alt=\"Open In Colab\"/></a>"
      ]
    },
    {
      "cell_type": "code",
      "execution_count": 17,
      "metadata": {
        "id": "1aHbma3oGd57"
      },
      "outputs": [],
      "source": [
        "import nltk\n"
      ]
    },
    {
      "cell_type": "code",
      "source": [
        "from nltk.tokenize import sent_tokenize , word_tokenize"
      ],
      "metadata": {
        "id": "xkjQfp4THmEA"
      },
      "execution_count": 18,
      "outputs": []
    },
    {
      "cell_type": "code",
      "source": [
        "nltk.download(\"punkt\")\n",
        "nltk.download(\"punkt_tab\")\n"
      ],
      "metadata": {
        "colab": {
          "base_uri": "https://localhost:8080/"
        },
        "id": "jyd3EFVkIu7L",
        "outputId": "422da560-28ff-4e0d-a950-649f3d62af14"
      },
      "execution_count": 23,
      "outputs": [
        {
          "output_type": "stream",
          "name": "stderr",
          "text": [
            "[nltk_data] Downloading package punkt to /root/nltk_data...\n",
            "[nltk_data]   Package punkt is already up-to-date!\n",
            "[nltk_data] Downloading package punkt_tab to /root/nltk_data...\n",
            "[nltk_data]   Unzipping tokenizers/punkt_tab.zip.\n"
          ]
        },
        {
          "output_type": "execute_result",
          "data": {
            "text/plain": [
              "True"
            ]
          },
          "metadata": {},
          "execution_count": 23
        }
      ]
    },
    {
      "cell_type": "code",
      "source": [
        "#download resources if not already done\n",
        "example_sentence=\"Python programmers often tend like programming in python because it's like english\""
      ],
      "metadata": {
        "id": "9rNCEbLaH0d-"
      },
      "execution_count": 24,
      "outputs": []
    },
    {
      "cell_type": "code",
      "source": [
        "## 1.sentence tokenizeation\n",
        "sentences=sent_tokenize(example_sentence)"
      ],
      "metadata": {
        "id": "nVY98QAaIKvg"
      },
      "execution_count": 25,
      "outputs": []
    },
    {
      "cell_type": "code",
      "source": [
        "print(\"sentences token:\")\n",
        "for i, s in enumerate(sentences,1):\n",
        "    print(f\"{i}: {s}\")"
      ],
      "metadata": {
        "colab": {
          "base_uri": "https://localhost:8080/"
        },
        "id": "VDJP9L97IXJj",
        "outputId": "b3a9715d-2d62-4681-dd40-8d29043b0d03"
      },
      "execution_count": 26,
      "outputs": [
        {
          "output_type": "stream",
          "name": "stdout",
          "text": [
            "sentences token:\n",
            "1: Python programmers often tend like programming in python because it's like english\n"
          ]
        }
      ]
    },
    {
      "cell_type": "code",
      "source": [
        "### word tokenization\n",
        "\n",
        "word=word_tokenize(example_sentence)\n",
        "print(\"word tokens:\")\n",
        "print(word)"
      ],
      "metadata": {
        "colab": {
          "base_uri": "https://localhost:8080/"
        },
        "id": "V5DIZvHCJuN8",
        "outputId": "5c88f2d3-ae42-4448-c594-7b7dddb06ba6"
      },
      "execution_count": 28,
      "outputs": [
        {
          "output_type": "stream",
          "name": "stdout",
          "text": [
            "word tokens:\n",
            "['Python', 'programmers', 'often', 'tend', 'like', 'programming', 'in', 'python', 'because', 'it', \"'s\", 'like', 'english']\n"
          ]
        }
      ]
    },
    {
      "cell_type": "code",
      "source": [
        "##stemming\n",
        "import nltk\n",
        "from nltk.stem import PorterStemmer\n",
        "nltk.download(\"punkt\")"
      ],
      "metadata": {
        "colab": {
          "base_uri": "https://localhost:8080/"
        },
        "id": "G6BU7BLwKeZd",
        "outputId": "f02671de-575f-46b6-c2d1-3c1216f3cf91"
      },
      "execution_count": 30,
      "outputs": [
        {
          "output_type": "stream",
          "name": "stderr",
          "text": [
            "[nltk_data] Downloading package punkt to /root/nltk_data...\n",
            "[nltk_data]   Package punkt is already up-to-date!\n"
          ]
        },
        {
          "output_type": "execute_result",
          "data": {
            "text/plain": [
              "True"
            ]
          },
          "metadata": {},
          "execution_count": 30
        }
      ]
    },
    {
      "cell_type": "code",
      "source": [
        "ps=PorterStemmer()\n",
        "example_words=[\"program\",\"programming\",\"programmer\",\"programs\",\"programmed\"]\n"
      ],
      "metadata": {
        "id": "ZR742C10MYwI"
      },
      "execution_count": 31,
      "outputs": []
    },
    {
      "cell_type": "code",
      "source": [
        "\n",
        "#Perform stemming\n",
        "\n",
        "print(\"{0:20}{1:20}\".format(\"--Word--\", \"--Stem--\"))\n",
        "\n",
        "for word in example_words:\n",
        "\n",
        "    print (\"{0:20}{1:20}\".format(word, ps.stem(word)))"
      ],
      "metadata": {
        "colab": {
          "base_uri": "https://localhost:8080/"
        },
        "id": "cSsNn86vMug6",
        "outputId": "13da182c-1a3b-4b31-c7eb-c3950ece94a4"
      },
      "execution_count": 32,
      "outputs": [
        {
          "output_type": "stream",
          "name": "stdout",
          "text": [
            "--Word--            --Stem--            \n",
            "program             program             \n",
            "programming         program             \n",
            "programmer          programm            \n",
            "programs            program             \n",
            "programmed          program             \n"
          ]
        }
      ]
    },
    {
      "cell_type": "code",
      "source": [],
      "metadata": {
        "id": "jcDmEOARNKG2"
      },
      "execution_count": null,
      "outputs": []
    },
    {
      "cell_type": "code",
      "source": [
        "from nltk.stem import WordNetLemmatizer\n",
        "\n",
        "nltk.download(\"wordnet\")\n",
        "\n",
        "nltk.download(\"omw-1.4\")\n",
        "\n",
        "wnl=WordNetLemmatizer()\n",
        "\n",
        "# Example inflections to reduce\n",
        "\n",
        "example_words = [\"program\",\"programming\",\"programer\", \"programs\", \"programmed\"]\n",
        "\n",
        "# Perform lemmatization\n",
        "\n",
        "print(\"{0:20}{1:20}\".format(\"--Word--\",\"--Lemma--\"))\n",
        "\n",
        "for word in example_words:\n",
        "\n",
        "    print (\"{0:20}{1:20}\".format(word, wnl.lemmatize(word, pos=\"v\")))"
      ],
      "metadata": {
        "colab": {
          "base_uri": "https://localhost:8080/"
        },
        "id": "Cc6lx0rGPXWN",
        "outputId": "0b37cba6-674f-47df-b845-18c05dc98618"
      },
      "execution_count": 35,
      "outputs": [
        {
          "output_type": "stream",
          "name": "stderr",
          "text": [
            "[nltk_data] Downloading package wordnet to /root/nltk_data...\n",
            "[nltk_data]   Package wordnet is already up-to-date!\n",
            "[nltk_data] Downloading package omw-1.4 to /root/nltk_data...\n",
            "[nltk_data]   Package omw-1.4 is already up-to-date!\n"
          ]
        },
        {
          "output_type": "stream",
          "name": "stdout",
          "text": [
            "--Word--            --Lemma--           \n",
            "program             program             \n",
            "programming         program             \n",
            "programer           programer           \n",
            "programs            program             \n",
            "programmed          program             \n"
          ]
        }
      ]
    },
    {
      "cell_type": "code",
      "source": [],
      "metadata": {
        "id": "qrpxWeKKPZ-r"
      },
      "execution_count": null,
      "outputs": []
    }
  ]
}